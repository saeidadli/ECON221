{
 "cells": [
  {
   "cell_type": "code",
   "execution_count": 1,
   "metadata": {},
   "outputs": [],
   "source": [
    "import sys\n",
    "import math\n",
    "from pathlib import Path\n",
    "\n",
    "import pandas as pd\n",
    "import numpy as np\n",
    "import matplotlib.pyplot as plt\n",
    "import seaborn as sns\n",
    "import statsmodels\n",
    "from statsmodels.compat import lzip\n",
    "import statsmodels.formula.api as smf\n",
    "import statsmodels.stats.api as sms\n",
    "\n",
    "\n",
    "DIR = Path('..')\n",
    "sys.path.append(str(DIR))\n",
    "\n",
    "DATA_DIR = DIR/'data/'\n",
    "OUT_DIR = DIR/'output/'\n",
    "\n",
    "%load_ext autoreload\n",
    "%autoreload 2"
   ]
  },
  {
   "cell_type": "markdown",
   "metadata": {},
   "source": [
    "# Chapter 1"
   ]
  },
  {
   "cell_type": "markdown",
   "metadata": {},
   "source": [
    "## Structure of Economic Data"
   ]
  },
  {
   "cell_type": "markdown",
   "metadata": {},
   "source": [
    "Cross-Sectional Data\n",
    "A cross-sectional data set consists of a sample of individuals, households, firms, cities,states, countries, or a variety of other units, taken at a given point in time.\n",
    "An important feature of cross-sectional data is that we can often assume that they have been obtained by random sampling from the underlying population."
   ]
  },
  {
   "cell_type": "markdown",
   "metadata": {},
   "source": [
    "A time series data set consists of observations on a variable or several variables over time. Another feature of time series data that can require special attention is the data frequency\n",
    "at which the data are collected. In economics, the most common frequencies are daily, weekly, monthly, quarterly, and annually."
   ]
  },
  {
   "cell_type": "markdown",
   "metadata": {},
   "source": [
    "Some data sets have both cross-sectional and time series features. To increase our sample size, we can form a pooled cross section by combining the two years. Pooling cross sections from different years is often an effective way of analyzing the effects of a new government policy."
   ]
  },
  {
   "cell_type": "markdown",
   "metadata": {},
   "source": [
    "A panel data (or longitudinal data) set consists of a time series for each cross-sectional member in the data set.The key feature of panel data that distinguishes them from a pooled cross section isthat the same cross-sectional units (individuals, firms, or counties in the preceding examples) are followed over a given time period."
   ]
  },
  {
   "cell_type": "markdown",
   "metadata": {},
   "source": [
    "## Causality and the Notion of Ceteris Paribus in Econometric Analysis"
   ]
  },
  {
   "cell_type": "markdown",
   "metadata": {},
   "source": [
    "In most tests of economic theory, and certainly for evaluating public policy, the economist’s goal is to infer that one variable (such as education) has a causal effect on another variable (such as worker productivity). Simply finding an association between two or more variables might be suggestive, but unless causality can be established, it is rarely\n",
    "compelling.\n",
    "The notion of ceteris paribus—which means “other (relevant) factors being equal”— plays an important role in causal analysis."
   ]
  },
  {
   "cell_type": "markdown",
   "metadata": {},
   "source": [
    "# Chapter 2"
   ]
  },
  {
   "cell_type": "markdown",
   "metadata": {},
   "source": [
    "## Simple Regression Model"
   ]
  },
  {
   "cell_type": "markdown",
   "metadata": {},
   "source": [
    "Much of applied econometric analysis begins with the following premise: y and x are two variables, representing some population, and we are interested in “explaining y in terms of x,” or in “studying how y varies with changes in x.”\n",
    "\n",
    "The following equation defines the simple linear regression model.The variable *u*, called the error term or disturbance in the relationship, represents factors other than x that affect y. A simple regression analysis effectively treats all factors affecting y other than x as being unobserved."
   ]
  },
  {
   "cell_type": "markdown",
   "metadata": {},
   "source": [
    "\\begin{equation*}\n",
    "y= \\beta_0+\\beta_1x+u \\\\\n",
    "\\end{equation*}"
   ]
  },
  {
   "cell_type": "markdown",
   "metadata": {},
   "source": [
    "Assumption (Zero conditional mean assumption)"
   ]
  },
  {
   "cell_type": "markdown",
   "metadata": {},
   "source": [
    "\\begin{equation*}\n",
    "E(u)=E(u|x)=0\\\\\n",
    "Implies:\\\\\n",
    "Cov(x,u)=E(xu)=0\n",
    "\\end{equation*}"
   ]
  },
  {
   "cell_type": "markdown",
   "metadata": {},
   "source": [
    "Means: x must not contain information about the mean of the unobserved factors."
   ]
  },
  {
   "cell_type": "markdown",
   "metadata": {},
   "source": [
    "Means: The average value of the unobservables is the same across all slices of the population determined by the value of x."
   ]
  },
  {
   "cell_type": "markdown",
   "metadata": {},
   "source": [
    "Now the question is how to estimate $\\beta_0$ and $\\beta_1$. To do this, we need a \"Random\" sample of size n from the population. So we can write:"
   ]
  },
  {
   "cell_type": "markdown",
   "metadata": {},
   "source": [
    "\\begin{equation*}\n",
    "y_i= \\beta_0+\\beta_1x_i+u_i \\\\\n",
    "\\end{equation*}"
   ]
  },
  {
   "cell_type": "markdown",
   "metadata": {},
   "source": [
    "Here, $u_i$ is the error term for observation i because it contains all factors affecting $y_i$ other than $x_i$. The estimates are called the **ordinary least squares (OLS)** estimates of $\\beta_0$ and $\\beta_1$. To justify this name, for any $\\hat{\\beta}_0$ and $\\hat{\\beta}_1$ define a fitted value for y when $x=x_i$ as"
   ]
  },
  {
   "cell_type": "markdown",
   "metadata": {},
   "source": [
    "\\begin{equation*}\n",
    "\\hat{y}_i= \\hat{\\beta}_0+\\hat{\\beta}_1x_i \\\\\n",
    "\\end{equation*}"
   ]
  },
  {
   "cell_type": "markdown",
   "metadata": {},
   "source": [
    "For the population of chief executive officers, let y be annual salary (salary) in thousands\n",
    "of dollars. Thus, y = 856.3 indicates an annual salary of 856,300, and y = 1,452.6 indicates a salary of $1,452,600. Let x be the average return on equity (roe) for the CEO’s firm for the previous three years. (Return on equity is defined in terms of net income as a percentage of common equity.) For example, if roe 5 10, then average return on equity is 10%.\n",
    "To study the relationship between this measure of firm performance and CEO compensation, we postulate the simple model"
   ]
  },
  {
   "cell_type": "markdown",
   "metadata": {},
   "source": [
    "\\begin{equation*}\n",
    "salary=\\beta_0 + \\beta_1 roe + u\n",
    "\\end{equation*}"
   ]
  },
  {
   "cell_type": "code",
   "execution_count": 8,
   "metadata": {},
   "outputs": [
    {
     "data": {
      "text/html": [
       "<div>\n",
       "<style scoped>\n",
       "    .dataframe tbody tr th:only-of-type {\n",
       "        vertical-align: middle;\n",
       "    }\n",
       "\n",
       "    .dataframe tbody tr th {\n",
       "        vertical-align: top;\n",
       "    }\n",
       "\n",
       "    .dataframe thead th {\n",
       "        text-align: right;\n",
       "    }\n",
       "</style>\n",
       "<table border=\"1\" class=\"dataframe\">\n",
       "  <thead>\n",
       "    <tr style=\"text-align: right;\">\n",
       "      <th></th>\n",
       "      <th>salary</th>\n",
       "      <th>pcsalary</th>\n",
       "      <th>sales</th>\n",
       "      <th>roe</th>\n",
       "      <th>pcroe</th>\n",
       "      <th>ros</th>\n",
       "      <th>indus</th>\n",
       "      <th>finance</th>\n",
       "      <th>consprod</th>\n",
       "      <th>utility</th>\n",
       "      <th>lsalary</th>\n",
       "      <th>lsales</th>\n",
       "    </tr>\n",
       "  </thead>\n",
       "  <tbody>\n",
       "    <tr>\n",
       "      <th>0</th>\n",
       "      <td>1095</td>\n",
       "      <td>20</td>\n",
       "      <td>27595.0</td>\n",
       "      <td>14.1</td>\n",
       "      <td>106.4</td>\n",
       "      <td>191</td>\n",
       "      <td>1</td>\n",
       "      <td>0</td>\n",
       "      <td>0</td>\n",
       "      <td>0</td>\n",
       "      <td>6.998509</td>\n",
       "      <td>10.225390</td>\n",
       "    </tr>\n",
       "    <tr>\n",
       "      <th>1</th>\n",
       "      <td>1001</td>\n",
       "      <td>32</td>\n",
       "      <td>9958.0</td>\n",
       "      <td>10.9</td>\n",
       "      <td>-30.6</td>\n",
       "      <td>13</td>\n",
       "      <td>1</td>\n",
       "      <td>0</td>\n",
       "      <td>0</td>\n",
       "      <td>0</td>\n",
       "      <td>6.908755</td>\n",
       "      <td>9.206132</td>\n",
       "    </tr>\n",
       "    <tr>\n",
       "      <th>2</th>\n",
       "      <td>1122</td>\n",
       "      <td>9</td>\n",
       "      <td>6125.9</td>\n",
       "      <td>23.5</td>\n",
       "      <td>-16.3</td>\n",
       "      <td>14</td>\n",
       "      <td>1</td>\n",
       "      <td>0</td>\n",
       "      <td>0</td>\n",
       "      <td>0</td>\n",
       "      <td>7.022868</td>\n",
       "      <td>8.720281</td>\n",
       "    </tr>\n",
       "    <tr>\n",
       "      <th>3</th>\n",
       "      <td>578</td>\n",
       "      <td>-9</td>\n",
       "      <td>16246.0</td>\n",
       "      <td>5.9</td>\n",
       "      <td>-25.7</td>\n",
       "      <td>-21</td>\n",
       "      <td>1</td>\n",
       "      <td>0</td>\n",
       "      <td>0</td>\n",
       "      <td>0</td>\n",
       "      <td>6.359574</td>\n",
       "      <td>9.695602</td>\n",
       "    </tr>\n",
       "    <tr>\n",
       "      <th>4</th>\n",
       "      <td>1368</td>\n",
       "      <td>7</td>\n",
       "      <td>21783.2</td>\n",
       "      <td>13.8</td>\n",
       "      <td>-3.0</td>\n",
       "      <td>56</td>\n",
       "      <td>1</td>\n",
       "      <td>0</td>\n",
       "      <td>0</td>\n",
       "      <td>0</td>\n",
       "      <td>7.221105</td>\n",
       "      <td>9.988894</td>\n",
       "    </tr>\n",
       "  </tbody>\n",
       "</table>\n",
       "</div>"
      ],
      "text/plain": [
       "   salary  pcsalary    sales   roe  pcroe  ros  indus  finance  consprod  \\\n",
       "0    1095        20  27595.0  14.1  106.4  191      1        0         0   \n",
       "1    1001        32   9958.0  10.9  -30.6   13      1        0         0   \n",
       "2    1122         9   6125.9  23.5  -16.3   14      1        0         0   \n",
       "3     578        -9  16246.0   5.9  -25.7  -21      1        0         0   \n",
       "4    1368         7  21783.2  13.8   -3.0   56      1        0         0   \n",
       "\n",
       "   utility   lsalary     lsales  \n",
       "0        0  6.998509  10.225390  \n",
       "1        0  6.908755   9.206132  \n",
       "2        0  7.022868   8.720281  \n",
       "3        0  6.359574   9.695602  \n",
       "4        0  7.221105   9.988894  "
      ]
     },
     "execution_count": 8,
     "metadata": {},
     "output_type": "execute_result"
    }
   ],
   "source": [
    "#Load sample data (source: http://lib.stat.cmu.edu/datasets/CPS_85_Wages)\n",
    "\"\"\"\n",
    "  1. salary                   1990 salary, thousands $\n",
    "  2. pcsalary                 % change salary, 89-90\n",
    "  3. sales                    1990 firm sales, millions $\n",
    "  4. roe                      return on equity, 88-90 avg\n",
    "  5. pcroe                    % change roe, 88-90\n",
    "  6. ros                      return on firm's stock, 88-90\n",
    "  7. indus                    =1 if industrial firm\n",
    "  8. finance                  =1 if financial firm\n",
    "  9. consprod                 =1 if consumer product firm\n",
    " 10. utility                  =1 if transport. or utilties\n",
    " 11. lsalary                  natural log of salary\n",
    " 12. lsales                   natural log of sales\n",
    "\"\"\"\n",
    "df = pd.read_csv(DATA_DIR/'CEO Salary and Return on Equity.csv')\n",
    "df.head()"
   ]
  },
  {
   "cell_type": "code",
   "execution_count": 9,
   "metadata": {},
   "outputs": [
    {
     "data": {
      "text/html": [
       "<table class=\"simpletable\">\n",
       "<caption>OLS Regression Results</caption>\n",
       "<tr>\n",
       "  <th>Dep. Variable:</th>         <td>salary</td>      <th>  R-squared:         </th> <td>   0.013</td>\n",
       "</tr>\n",
       "<tr>\n",
       "  <th>Model:</th>                   <td>OLS</td>       <th>  Adj. R-squared:    </th> <td>   0.008</td>\n",
       "</tr>\n",
       "<tr>\n",
       "  <th>Method:</th>             <td>Least Squares</td>  <th>  F-statistic:       </th> <td>   2.767</td>\n",
       "</tr>\n",
       "<tr>\n",
       "  <th>Date:</th>             <td>Wed, 27 Mar 2019</td> <th>  Prob (F-statistic):</th>  <td>0.0978</td> \n",
       "</tr>\n",
       "<tr>\n",
       "  <th>Time:</th>                 <td>14:12:26</td>     <th>  Log-Likelihood:    </th> <td> -1804.5</td>\n",
       "</tr>\n",
       "<tr>\n",
       "  <th>No. Observations:</th>      <td>   209</td>      <th>  AIC:               </th> <td>   3613.</td>\n",
       "</tr>\n",
       "<tr>\n",
       "  <th>Df Residuals:</th>          <td>   207</td>      <th>  BIC:               </th> <td>   3620.</td>\n",
       "</tr>\n",
       "<tr>\n",
       "  <th>Df Model:</th>              <td>     1</td>      <th>                     </th>     <td> </td>   \n",
       "</tr>\n",
       "<tr>\n",
       "  <th>Covariance Type:</th>      <td>nonrobust</td>    <th>                     </th>     <td> </td>   \n",
       "</tr>\n",
       "</table>\n",
       "<table class=\"simpletable\">\n",
       "<tr>\n",
       "      <td></td>         <th>coef</th>     <th>std err</th>      <th>t</th>      <th>P>|t|</th>  <th>[0.025</th>    <th>0.975]</th>  \n",
       "</tr>\n",
       "<tr>\n",
       "  <th>Intercept</th> <td>  963.1913</td> <td>  213.240</td> <td>    4.517</td> <td> 0.000</td> <td>  542.790</td> <td> 1383.592</td>\n",
       "</tr>\n",
       "<tr>\n",
       "  <th>roe</th>       <td>   18.5012</td> <td>   11.123</td> <td>    1.663</td> <td> 0.098</td> <td>   -3.428</td> <td>   40.431</td>\n",
       "</tr>\n",
       "</table>\n",
       "<table class=\"simpletable\">\n",
       "<tr>\n",
       "  <th>Omnibus:</th>       <td>311.096</td> <th>  Durbin-Watson:     </th> <td>   2.105</td> \n",
       "</tr>\n",
       "<tr>\n",
       "  <th>Prob(Omnibus):</th> <td> 0.000</td>  <th>  Jarque-Bera (JB):  </th> <td>31120.901</td>\n",
       "</tr>\n",
       "<tr>\n",
       "  <th>Skew:</th>          <td> 6.915</td>  <th>  Prob(JB):          </th> <td>    0.00</td> \n",
       "</tr>\n",
       "<tr>\n",
       "  <th>Kurtosis:</th>      <td>61.158</td>  <th>  Cond. No.          </th> <td>    43.3</td> \n",
       "</tr>\n",
       "</table><br/><br/>Warnings:<br/>[1] Standard Errors assume that the covariance matrix of the errors is correctly specified."
      ],
      "text/plain": [
       "<class 'statsmodels.iolib.summary.Summary'>\n",
       "\"\"\"\n",
       "                            OLS Regression Results                            \n",
       "==============================================================================\n",
       "Dep. Variable:                 salary   R-squared:                       0.013\n",
       "Model:                            OLS   Adj. R-squared:                  0.008\n",
       "Method:                 Least Squares   F-statistic:                     2.767\n",
       "Date:                Wed, 27 Mar 2019   Prob (F-statistic):             0.0978\n",
       "Time:                        14:12:26   Log-Likelihood:                -1804.5\n",
       "No. Observations:                 209   AIC:                             3613.\n",
       "Df Residuals:                     207   BIC:                             3620.\n",
       "Df Model:                           1                                         \n",
       "Covariance Type:            nonrobust                                         \n",
       "==============================================================================\n",
       "                 coef    std err          t      P>|t|      [0.025      0.975]\n",
       "------------------------------------------------------------------------------\n",
       "Intercept    963.1913    213.240      4.517      0.000     542.790    1383.592\n",
       "roe           18.5012     11.123      1.663      0.098      -3.428      40.431\n",
       "==============================================================================\n",
       "Omnibus:                      311.096   Durbin-Watson:                   2.105\n",
       "Prob(Omnibus):                  0.000   Jarque-Bera (JB):            31120.901\n",
       "Skew:                           6.915   Prob(JB):                         0.00\n",
       "Kurtosis:                      61.158   Cond. No.                         43.3\n",
       "==============================================================================\n",
       "\n",
       "Warnings:\n",
       "[1] Standard Errors assume that the covariance matrix of the errors is correctly specified.\n",
       "\"\"\""
      ]
     },
     "execution_count": 9,
     "metadata": {},
     "output_type": "execute_result"
    }
   ],
   "source": [
    "#regression using stats model library\n",
    "model = smf.ols(\"salary ~ roe\", df).fit()\n",
    "model.summary()"
   ]
  },
  {
   "cell_type": "code",
   "execution_count": 10,
   "metadata": {},
   "outputs": [
    {
     "data": {
      "image/png": "[encoded data removed]",
      "text/plain": [
       "<matplotlib.figure.Figure at 0x191d07cc278>"
      ]
     },
     "metadata": {
      "needs_background": "light"
     },
     "output_type": "display_data"
    }
   ],
   "source": [
    "#Plot a regression model (E(AGE|EXPERIENCE)=B0+B1EXPERIENCE)\n",
    "ax = sns.regplot(y='salary', x='roe', data=df)"
   ]
  },
  {
   "cell_type": "markdown",
   "metadata": {},
   "source": [
    "where the intercept and slope estimates have been rounded to three decimal places; we use “salary hat” to indicate that this is an estimated equation. How do we interpret the equation? First, if the return on equity is zero, roe = 0, then the predicted salary is the intercept, 963.191, which equals 963,191 since salary is measured in thousands. Next, we can write the predicted change in salary as a function of the change in roe: $\\Delta \\hat{salary}=18.501 (\\Delta roe) $ This means that if the return on equity increases by one percentage point, $\\Delta roe=1$, then salary is predicted to change by about 18.5, or 18,500. Because it is a linear equation, this is the estimated change regardless of the initial salary."
   ]
  },
  {
   "cell_type": "markdown",
   "metadata": {},
   "source": [
    "The salary - roe regression explains 1.32% of the total variation in salaries. $R^2=0.0132$"
   ]
  },
  {
   "cell_type": "markdown",
   "metadata": {},
   "source": [
    "Changes in Xi do not necessarily \"cause\" changes in Yi. Regression does not\n",
    "imply causation. This causal relationship must first be established outside\n",
    "of statistics (e.g., economic theory). In the case of OLS, in order to get a\n",
    "proper causal interpretation, it is necessary to satisfy the zero conditional\n",
    "mean condition (or \"exogeneity assumption\"). \n"
   ]
  },
  {
   "cell_type": "markdown",
   "metadata": {},
   "source": [
    "Variables Xi and Yi are not treated symmetrically. We try to predict the\n",
    "values of the dependent variable, given the certain values of the independent\n",
    "variable. So statement is \"false\"."
   ]
  },
  {
   "cell_type": "markdown",
   "metadata": {},
   "source": [
    "## goodness-of-Fit"
   ]
  },
  {
   "cell_type": "markdown",
   "metadata": {},
   "source": [
    "Define the total sum of squares (SST), the explained sum of squares (SSE), and the residual sum of squares (SSR) (also known as the sum of squared residuals), as follows:"
   ]
  },
  {
   "cell_type": "markdown",
   "metadata": {},
   "source": [
    "\\begin{equation*}\n",
    "SST=\\sum_{i=1}^n \\left(y_i-\\bar{y} \\right)^2 \\\\\n",
    "SSE=\\sum_{i=1}^n \\left(\\hat{y}_i-\\bar{y} \\right)^2 \\\\\n",
    "SSR=\\sum_{i=1}^n \\hat{u}_i^2 \\\\\n",
    "SST = SSE + SSR\n",
    "\\end{equation*}"
   ]
  },
  {
   "cell_type": "markdown",
   "metadata": {},
   "source": [
    "R2 is the ratio of the explained variation compared to the total variation; thus, it is interpreted as the fraction of the sample variation in y that is explained by x.The **R-squared** of the regression, sometimes called the **coefficient of determination**, is defined as"
   ]
  },
  {
   "cell_type": "markdown",
   "metadata": {},
   "source": [
    "\\begin{equation*}\n",
    "R^2=SSE/SST=1-SSR/SST\n",
    "\\end{equation*}"
   ]
  },
  {
   "cell_type": "code",
   "execution_count": 11,
   "metadata": {},
   "outputs": [
    {
     "data": {
      "text/plain": [
       "0.013188624814144401"
      ]
     },
     "execution_count": 11,
     "metadata": {},
     "output_type": "execute_result"
    }
   ],
   "source": [
    "#R-squared from the model\n",
    "model.rsquared"
   ]
  },
  {
   "cell_type": "code",
   "execution_count": 12,
   "metadata": {},
   "outputs": [
    {
     "data": {
      "text/plain": [
       "0.0084214201031016511"
      ]
     },
     "execution_count": 12,
     "metadata": {},
     "output_type": "execute_result"
    }
   ],
   "source": [
    "model.rsquared_adj"
   ]
  },
  {
   "cell_type": "markdown",
   "metadata": {},
   "source": [
    "## Incorporating Nonlinearities in Simple Regression"
   ]
  },
  {
   "cell_type": "markdown",
   "metadata": {},
   "source": [
    "it is rather easy to incorporate many nonlinearities into simple regression analysis by appropriately defining the dependent and independent variables."
   ]
  },
  {
   "cell_type": "markdown",
   "metadata": {},
   "source": [
    "For the population of people in the workforce in 1976, let y 5 wage, where wage is\n",
    "measured in dollars per hour. Thus, for a particular person, if wage 5 6.75, the hourly\n",
    "wage is 6.75. Let x 5 educ denote years of schooling; for example, educ 5 12 corresponds\n",
    "to a complete high school education. Since the average wage in the sample is\n",
    "5.90, the Consumer Price Index indicates that this amount is equivalent to 19.06 in\n",
    "2003 dollars."
   ]
  },
  {
   "cell_type": "code",
   "execution_count": 13,
   "metadata": {},
   "outputs": [
    {
     "data": {
      "text/html": [
       "<div>\n",
       "<style scoped>\n",
       "    .dataframe tbody tr th:only-of-type {\n",
       "        vertical-align: middle;\n",
       "    }\n",
       "\n",
       "    .dataframe tbody tr th {\n",
       "        vertical-align: top;\n",
       "    }\n",
       "\n",
       "    .dataframe thead th {\n",
       "        text-align: right;\n",
       "    }\n",
       "</style>\n",
       "<table border=\"1\" class=\"dataframe\">\n",
       "  <thead>\n",
       "    <tr style=\"text-align: right;\">\n",
       "      <th></th>\n",
       "      <th>wage</th>\n",
       "      <th>educ</th>\n",
       "      <th>exper</th>\n",
       "      <th>tenure</th>\n",
       "      <th>nonwhite</th>\n",
       "      <th>female</th>\n",
       "      <th>married</th>\n",
       "      <th>numdep</th>\n",
       "      <th>smsa</th>\n",
       "      <th>northcen</th>\n",
       "      <th>...</th>\n",
       "      <th>trcommpu</th>\n",
       "      <th>trade</th>\n",
       "      <th>services</th>\n",
       "      <th>profserv</th>\n",
       "      <th>profocc</th>\n",
       "      <th>clerocc</th>\n",
       "      <th>servocc</th>\n",
       "      <th>lwage</th>\n",
       "      <th>expersq</th>\n",
       "      <th>tenursq</th>\n",
       "    </tr>\n",
       "  </thead>\n",
       "  <tbody>\n",
       "    <tr>\n",
       "      <th>0</th>\n",
       "      <td>3.10</td>\n",
       "      <td>11</td>\n",
       "      <td>2</td>\n",
       "      <td>0</td>\n",
       "      <td>0</td>\n",
       "      <td>1</td>\n",
       "      <td>0</td>\n",
       "      <td>2</td>\n",
       "      <td>1</td>\n",
       "      <td>0</td>\n",
       "      <td>...</td>\n",
       "      <td>0</td>\n",
       "      <td>0</td>\n",
       "      <td>0</td>\n",
       "      <td>0</td>\n",
       "      <td>0</td>\n",
       "      <td>0</td>\n",
       "      <td>0</td>\n",
       "      <td>1.131402</td>\n",
       "      <td>4</td>\n",
       "      <td>0</td>\n",
       "    </tr>\n",
       "    <tr>\n",
       "      <th>1</th>\n",
       "      <td>3.24</td>\n",
       "      <td>12</td>\n",
       "      <td>22</td>\n",
       "      <td>2</td>\n",
       "      <td>0</td>\n",
       "      <td>1</td>\n",
       "      <td>1</td>\n",
       "      <td>3</td>\n",
       "      <td>1</td>\n",
       "      <td>0</td>\n",
       "      <td>...</td>\n",
       "      <td>0</td>\n",
       "      <td>0</td>\n",
       "      <td>1</td>\n",
       "      <td>0</td>\n",
       "      <td>0</td>\n",
       "      <td>0</td>\n",
       "      <td>1</td>\n",
       "      <td>1.175573</td>\n",
       "      <td>484</td>\n",
       "      <td>4</td>\n",
       "    </tr>\n",
       "    <tr>\n",
       "      <th>2</th>\n",
       "      <td>3.00</td>\n",
       "      <td>11</td>\n",
       "      <td>2</td>\n",
       "      <td>0</td>\n",
       "      <td>0</td>\n",
       "      <td>0</td>\n",
       "      <td>0</td>\n",
       "      <td>2</td>\n",
       "      <td>0</td>\n",
       "      <td>0</td>\n",
       "      <td>...</td>\n",
       "      <td>0</td>\n",
       "      <td>1</td>\n",
       "      <td>0</td>\n",
       "      <td>0</td>\n",
       "      <td>0</td>\n",
       "      <td>0</td>\n",
       "      <td>0</td>\n",
       "      <td>1.098612</td>\n",
       "      <td>4</td>\n",
       "      <td>0</td>\n",
       "    </tr>\n",
       "    <tr>\n",
       "      <th>3</th>\n",
       "      <td>6.00</td>\n",
       "      <td>8</td>\n",
       "      <td>44</td>\n",
       "      <td>28</td>\n",
       "      <td>0</td>\n",
       "      <td>0</td>\n",
       "      <td>1</td>\n",
       "      <td>0</td>\n",
       "      <td>1</td>\n",
       "      <td>0</td>\n",
       "      <td>...</td>\n",
       "      <td>0</td>\n",
       "      <td>0</td>\n",
       "      <td>0</td>\n",
       "      <td>0</td>\n",
       "      <td>0</td>\n",
       "      <td>1</td>\n",
       "      <td>0</td>\n",
       "      <td>1.791759</td>\n",
       "      <td>1936</td>\n",
       "      <td>784</td>\n",
       "    </tr>\n",
       "    <tr>\n",
       "      <th>4</th>\n",
       "      <td>5.30</td>\n",
       "      <td>12</td>\n",
       "      <td>7</td>\n",
       "      <td>2</td>\n",
       "      <td>0</td>\n",
       "      <td>0</td>\n",
       "      <td>1</td>\n",
       "      <td>1</td>\n",
       "      <td>0</td>\n",
       "      <td>0</td>\n",
       "      <td>...</td>\n",
       "      <td>0</td>\n",
       "      <td>0</td>\n",
       "      <td>0</td>\n",
       "      <td>0</td>\n",
       "      <td>0</td>\n",
       "      <td>0</td>\n",
       "      <td>0</td>\n",
       "      <td>1.667707</td>\n",
       "      <td>49</td>\n",
       "      <td>4</td>\n",
       "    </tr>\n",
       "  </tbody>\n",
       "</table>\n",
       "<p>5 rows × 24 columns</p>\n",
       "</div>"
      ],
      "text/plain": [
       "   wage  educ  exper  tenure  nonwhite  female  married  numdep  smsa  \\\n",
       "0  3.10    11      2       0         0       1        0       2     1   \n",
       "1  3.24    12     22       2         0       1        1       3     1   \n",
       "2  3.00    11      2       0         0       0        0       2     0   \n",
       "3  6.00     8     44      28         0       0        1       0     1   \n",
       "4  5.30    12      7       2         0       0        1       1     0   \n",
       "\n",
       "   northcen   ...     trcommpu  trade  services  profserv  profocc  clerocc  \\\n",
       "0         0   ...            0      0         0         0        0        0   \n",
       "1         0   ...            0      0         1         0        0        0   \n",
       "2         0   ...            0      1         0         0        0        0   \n",
       "3         0   ...            0      0         0         0        0        1   \n",
       "4         0   ...            0      0         0         0        0        0   \n",
       "\n",
       "   servocc     lwage  expersq  tenursq  \n",
       "0        0  1.131402        4        0  \n",
       "1        1  1.175573      484        4  \n",
       "2        0  1.098612        4        0  \n",
       "3        0  1.791759     1936      784  \n",
       "4        0  1.667707       49        4  \n",
       "\n",
       "[5 rows x 24 columns]"
      ]
     },
     "execution_count": 13,
     "metadata": {},
     "output_type": "execute_result"
    }
   ],
   "source": [
    "#Load sample data \n",
    "\"\"\"\n",
    "  1. wage                     average hourly earnings\n",
    "  2. educ                     years of education\n",
    "  3. exper                    years potential experience\n",
    "  4. tenure                   years with current employer\n",
    "  5. nonwhite                 =1 if nonwhite\n",
    "  6. female                   =1 if female\n",
    "  7. married                  =1 if married\n",
    "  8. numdep                   number of dependents\n",
    "  9. smsa                     =1 if live in SMSA\n",
    " 10. northcen                 =1 if live in north central U.S\n",
    " 11. south                    =1 if live in southern region\n",
    " 12. west                     =1 if live in western region\n",
    " 13. construc                 =1 if work in construc. indus.\n",
    " 14. ndurman                  =1 if in nondur. manuf. indus.\n",
    " 15. trcommpu                 =1 if in trans, commun, pub ut\n",
    " 16. trade                    =1 if in wholesale or retail\n",
    " 17. services                 =1 if in services indus.\n",
    " 18. profserv                 =1 if in prof. serv. indus.\n",
    " 19. profocc                  =1 if in profess. occupation\n",
    " 20. clerocc                  =1 if in clerical occupation\n",
    " 21. servocc                  =1 if in service occupation\n",
    " 22. lwage                    log(wage)\n",
    " 23. expersq                  exper^2\n",
    " 24. tenursq                  tenure^2\n",
    "\"\"\"\n",
    "df = pd.read_csv(DATA_DIR/'wage1.csv')\n",
    "df.head()"
   ]
  },
  {
   "cell_type": "code",
   "execution_count": 47,
   "metadata": {},
   "outputs": [
    {
     "data": {
      "text/html": [
       "<table class=\"simpletable\">\n",
       "<caption>OLS Regression Results</caption>\n",
       "<tr>\n",
       "  <th>Dep. Variable:</th>          <td>wage</td>       <th>  R-squared:         </th> <td>   0.165</td>\n",
       "</tr>\n",
       "<tr>\n",
       "  <th>Model:</th>                   <td>OLS</td>       <th>  Adj. R-squared:    </th> <td>   0.163</td>\n",
       "</tr>\n",
       "<tr>\n",
       "  <th>Method:</th>             <td>Least Squares</td>  <th>  F-statistic:       </th> <td>   103.4</td>\n",
       "</tr>\n",
       "<tr>\n",
       "  <th>Date:</th>             <td>Mon, 01 Apr 2019</td> <th>  Prob (F-statistic):</th> <td>2.78e-22</td>\n",
       "</tr>\n",
       "<tr>\n",
       "  <th>Time:</th>                 <td>17:19:42</td>     <th>  Log-Likelihood:    </th> <td> -1385.7</td>\n",
       "</tr>\n",
       "<tr>\n",
       "  <th>No. Observations:</th>      <td>   526</td>      <th>  AIC:               </th> <td>   2775.</td>\n",
       "</tr>\n",
       "<tr>\n",
       "  <th>Df Residuals:</th>          <td>   524</td>      <th>  BIC:               </th> <td>   2784.</td>\n",
       "</tr>\n",
       "<tr>\n",
       "  <th>Df Model:</th>              <td>     1</td>      <th>                     </th>     <td> </td>   \n",
       "</tr>\n",
       "<tr>\n",
       "  <th>Covariance Type:</th>      <td>nonrobust</td>    <th>                     </th>     <td> </td>   \n",
       "</tr>\n",
       "</table>\n",
       "<table class=\"simpletable\">\n",
       "<tr>\n",
       "      <td></td>         <th>coef</th>     <th>std err</th>      <th>t</th>      <th>P>|t|</th>  <th>[0.025</th>    <th>0.975]</th>  \n",
       "</tr>\n",
       "<tr>\n",
       "  <th>Intercept</th> <td>   -0.9049</td> <td>    0.685</td> <td>   -1.321</td> <td> 0.187</td> <td>   -2.250</td> <td>    0.441</td>\n",
       "</tr>\n",
       "<tr>\n",
       "  <th>educ</th>      <td>    0.5414</td> <td>    0.053</td> <td>   10.167</td> <td> 0.000</td> <td>    0.437</td> <td>    0.646</td>\n",
       "</tr>\n",
       "</table>\n",
       "<table class=\"simpletable\">\n",
       "<tr>\n",
       "  <th>Omnibus:</th>       <td>212.554</td> <th>  Durbin-Watson:     </th> <td>   1.824</td> \n",
       "</tr>\n",
       "<tr>\n",
       "  <th>Prob(Omnibus):</th> <td> 0.000</td>  <th>  Jarque-Bera (JB):  </th> <td> 807.843</td> \n",
       "</tr>\n",
       "<tr>\n",
       "  <th>Skew:</th>          <td> 1.861</td>  <th>  Prob(JB):          </th> <td>3.79e-176</td>\n",
       "</tr>\n",
       "<tr>\n",
       "  <th>Kurtosis:</th>      <td> 7.797</td>  <th>  Cond. No.          </th> <td>    60.2</td> \n",
       "</tr>\n",
       "</table><br/><br/>Warnings:<br/>[1] Standard Errors assume that the covariance matrix of the errors is correctly specified."
      ],
      "text/plain": [
       "<class 'statsmodels.iolib.summary.Summary'>\n",
       "\"\"\"\n",
       "                            OLS Regression Results                            \n",
       "==============================================================================\n",
       "Dep. Variable:                   wage   R-squared:                       0.165\n",
       "Model:                            OLS   Adj. R-squared:                  0.163\n",
       "Method:                 Least Squares   F-statistic:                     103.4\n",
       "Date:                Mon, 01 Apr 2019   Prob (F-statistic):           2.78e-22\n",
       "Time:                        17:19:42   Log-Likelihood:                -1385.7\n",
       "No. Observations:                 526   AIC:                             2775.\n",
       "Df Residuals:                     524   BIC:                             2784.\n",
       "Df Model:                           1                                         \n",
       "Covariance Type:            nonrobust                                         \n",
       "==============================================================================\n",
       "                 coef    std err          t      P>|t|      [0.025      0.975]\n",
       "------------------------------------------------------------------------------\n",
       "Intercept     -0.9049      0.685     -1.321      0.187      -2.250       0.441\n",
       "educ           0.5414      0.053     10.167      0.000       0.437       0.646\n",
       "==============================================================================\n",
       "Omnibus:                      212.554   Durbin-Watson:                   1.824\n",
       "Prob(Omnibus):                  0.000   Jarque-Bera (JB):              807.843\n",
       "Skew:                           1.861   Prob(JB):                    3.79e-176\n",
       "Kurtosis:                       7.797   Cond. No.                         60.2\n",
       "==============================================================================\n",
       "\n",
       "Warnings:\n",
       "[1] Standard Errors assume that the covariance matrix of the errors is correctly specified.\n",
       "\"\"\""
      ]
     },
     "execution_count": 47,
     "metadata": {},
     "output_type": "execute_result"
    }
   ],
   "source": [
    "#regression using stats model library\n",
    "model = smf.ols(\"wage ~ educ\", df).fit()\n",
    "model.summary()"
   ]
  },
  {
   "cell_type": "code",
   "execution_count": 48,
   "metadata": {},
   "outputs": [
    {
     "name": "stdout",
     "output_type": "stream",
     "text": [
      "Intercept   -0.904852\n",
      "educ         0.541359\n",
      "dtype: float64\n",
      "R2:  0.164757512497\n"
     ]
    }
   ],
   "source": [
    "print(model.params)\n",
    "print('R2: ', model.rsquared)"
   ]
  },
  {
   "cell_type": "markdown",
   "metadata": {},
   "source": [
    "Intercept: A person with zero years of education has a wage of \\\\$-0.90 per hour.\n",
    "If educ increases by 1 year, then wage is predicted to increase by \\\\$0.54 (irrespective of the starting level)."
   ]
  },
  {
   "cell_type": "markdown",
   "metadata": {},
   "source": [
    "We must interpret this equation with caution. The intercept of 20.90 literally means that a person with no education has a predicted hourly wage of 290¢ an hour. This, of course, is silly. It turns out that only 18 people in the sample of 526 have less than eight years of salary education. Consequently, it is not surprising that the regression line does poorly at very low levels of education.The slope estimate in the model implies that one more year of education increases hourly\n",
    "wage by 54 ¢ an hour."
   ]
  },
  {
   "cell_type": "markdown",
   "metadata": {},
   "source": [
    "Probably a better characterization of how wage changes with education is that each year of education increases wage by a constant percentage. A model that gives (approximately) a constant percentage effect is"
   ]
  },
  {
   "cell_type": "markdown",
   "metadata": {},
   "source": [
    "\\begin{equation*}\n",
    "E(wage|educ)=e^{\\beta_0+\\beta_1educ}\\\\\n",
    "\\ln{(wage)}=\\beta_0 + \\beta_1 educ + u\n",
    "\\end{equation*}"
   ]
  },
  {
   "cell_type": "markdown",
   "metadata": {},
   "source": [
    "where log denotes the natural logarithm. In particular, if $\\Delta u=0$ then\n",
    "\n",
    "\\begin{equation*}\n",
    "\\beta_1=\\frac{\\delta ln(wage)}{\\delta educ} = \\frac{1}{wage}*\\frac{\\delta wage}{\\delta educ}=\\frac{\\frac{\\delta wage}{wage}}{\\delta educ}=\\frac{\\%\\Delta wage}{100\\Delta educ}\\\\\n",
    "\\%\\Delta wage=(100\\beta_1)\\Delta educ\n",
    "\\end{equation*}\n"
   ]
  },
  {
   "cell_type": "markdown",
   "metadata": {},
   "source": [
    "\\begin{equation*}\n",
    "math10=\\beta_0 + \\beta_1 \\ln{(enroll)} + u\\\\\n",
    "\\beta_1=\\frac{\\delta math10}{\\delta \\ln{(enroll)}}=\\frac{\\delta math10}{\\frac{\\delta enroll}{enroll}}=\\frac{100\\Delta math10}{\\%\\Delta enroll}\\\\\n",
    "\\Delta math10=\\frac{\\beta_1}{100}\\%\\Delta enroll\\\\\n",
    "\\end{equation*}"
   ]
  },
  {
   "cell_type": "markdown",
   "metadata": {},
   "source": [
    "A summary of log-log models are as below"
   ]
  },
  {
   "cell_type": "markdown",
   "metadata": {},
   "source": [
    "|Modle|Dependent Variable|Independent Variable|Interpretation of $\\beta_1$&nbsp; &nbsp; &nbsp; &nbsp; &nbsp;|\n",
    "|-----|------------------|--------------------|-------------------------------------------------------------|\n",
    "|Level-level|y|x|$\\Delta y = \\beta_1 \\Delta x$|\n",
    "|Level-log|y|$\\log(x)$|$\\Delta y = (\\beta_1/100)\\% \\Delta x$|\n",
    "|log-level|$\\log(y)$|x|$\\%\\Delta y = (100\\beta_1) \\Delta x$|\n",
    "|log-log|$\\log(y)$|$\\log(x)$|$\\%\\Delta y = \\beta_1 \\%\\Delta x$|"
   ]
  },
  {
   "cell_type": "code",
   "execution_count": 45,
   "metadata": {},
   "outputs": [
    {
     "name": "stdout",
     "output_type": "stream",
     "text": [
      "Intercept    0.583773\n",
      "educ         0.082744\n",
      "dtype: float64\n",
      "R2:  0.185806479332\n"
     ]
    }
   ],
   "source": [
    "#regression using stats model library\n",
    "df['ln_wage']=df['wage'].map(math.log)\n",
    "model = smf.ols(\"ln_wage ~ educ\", df).fit()\n",
    "print(model.params)\n",
    "print('R2: ', model.rsquared)"
   ]
  },
  {
   "cell_type": "markdown",
   "metadata": {},
   "source": [
    "wage increases by 8.3% for every additional year of education (\"return to education\"). The growth rate of wage is 8.3% per year of education."
   ]
  },
  {
   "cell_type": "markdown",
   "metadata": {},
   "source": [
    "## Expected Values and Variances of the OLS Estimators\n",
    "https://www.statsmodels.org/dev/examples/notebooks/generated/regression_diagnostics.html"
   ]
  },
  {
   "cell_type": "markdown",
   "metadata": {},
   "source": [
    "### Assumption SLR.1: Linear in Parameters"
   ]
  },
  {
   "cell_type": "markdown",
   "metadata": {},
   "source": [
    "\\begin{equation*}\n",
    "y= \\beta_0+\\beta_1x+u \\\\\n",
    "\\end{equation*}"
   ]
  },
  {
   "cell_type": "markdown",
   "metadata": {},
   "source": [
    "where $\\beta_0$ and $\\beta_1$ are the population intercept and slope parameters, respectively."
   ]
  },
  {
   "cell_type": "code",
   "execution_count": 35,
   "metadata": {},
   "outputs": [
    {
     "data": {
      "text/plain": [
       "[('t value', -2.5094478671921645), ('p value', 0.01239370073026499)]"
      ]
     },
     "execution_count": 35,
     "metadata": {},
     "output_type": "execute_result"
    }
   ],
   "source": [
    "# Linearity¶\n",
    "# Harvey-Collier multiplier test for Null hypothesis that \n",
    "# the linear specification is correct:\n",
    "name = ['t value', 'p value']\n",
    "test = sms.linear_harvey_collier(model)\n",
    "lzip(name, test)"
   ]
  },
  {
   "cell_type": "markdown",
   "metadata": {},
   "source": [
    "## Assumption SLR.2: Random Sampling"
   ]
  },
  {
   "cell_type": "markdown",
   "metadata": {},
   "source": [
    "We have a random sample of size n, {(xi,yi): i = 1, 2, …, n}, following the population model."
   ]
  },
  {
   "cell_type": "markdown",
   "metadata": {},
   "source": [
    "## Assumption SLR.3 Sample Variation in the Explanatory Variable"
   ]
  },
  {
   "cell_type": "markdown",
   "metadata": {},
   "source": [
    "The sample outcomes on x, namely, {xi, i = 1, …, n}, are not all the same value."
   ]
  },
  {
   "cell_type": "markdown",
   "metadata": {},
   "source": [
    "## Assumption SLR.4 Zero Conditional Mean"
   ]
  },
  {
   "cell_type": "markdown",
   "metadata": {},
   "source": [
    "The error u has an expected value of zero given any value of the explanatory variable. In\n",
    "other words,\n",
    "\\begin{equation*}\n",
    "E(u)=E(u|x)=0 \n",
    "\\end{equation*}"
   ]
  },
  {
   "cell_type": "markdown",
   "metadata": {},
   "source": [
    "## Theorem 2.1 Unbiasedness of OLS:"
   ]
  },
  {
   "cell_type": "markdown",
   "metadata": {},
   "source": [
    "\\begin{equation*}\n",
    "E(\\hat{\\beta}_0)=\\beta_0 \\\\\n",
    ",and \\\\\n",
    "E(\\hat{\\beta}_1)=\\beta_1\n",
    "\\end{equation*}"
   ]
  },
  {
   "cell_type": "markdown",
   "metadata": {},
   "source": [
    "## Assumption SLR.5 Homoskedasticity"
   ]
  },
  {
   "cell_type": "markdown",
   "metadata": {},
   "source": [
    "\\begin{equation*}\n",
    "Var(u|x)=\\delta^2 \\end{equation*}"
   ]
  },
  {
   "cell_type": "markdown",
   "metadata": {},
   "source": [
    "The value of x must contain no information about the variability of u."
   ]
  },
  {
   "cell_type": "code",
   "execution_count": 29,
   "metadata": {},
   "outputs": [
    {
     "data": {
      "text/plain": [
       "[('Lagrange multiplier statistic', 15.305630125327152),\n",
       " ('p-value', 9.1443564130804054e-05),\n",
       " ('f-value', 15.704402983020215),\n",
       " ('f p-value', 8.4316808731358571e-05)]"
      ]
     },
     "execution_count": 29,
     "metadata": {},
     "output_type": "execute_result"
    }
   ],
   "source": [
    "# Heteroskedasticity tests\n",
    "# The tests the hypothesis that the residual variance does \n",
    "# not depend on the variables in x in the form\n",
    "# Breush-Pagan test:\n",
    "\n",
    "name = ['Lagrange multiplier statistic', 'p-value',\n",
    "        'f-value', 'f p-value']\n",
    "test = sms.het_breuschpagan(model.resid, model.model.exog)\n",
    "lzip(name, test)"
   ]
  },
  {
   "cell_type": "code",
   "execution_count": 31,
   "metadata": {},
   "outputs": [
    {
     "data": {
      "text/plain": [
       "[('F statistic', 0.56672570998324423), ('p-value', 0.99999735045003335)]"
      ]
     },
     "execution_count": 31,
     "metadata": {},
     "output_type": "execute_result"
    }
   ],
   "source": [
    "# Goldfeld-Quandt test\n",
    "\n",
    "name = ['F statistic', 'p-value']\n",
    "test = sms.het_goldfeldquandt(model.resid, model.model.exog)\n",
    "lzip(name, test)"
   ]
  },
  {
   "cell_type": "markdown",
   "metadata": {},
   "source": [
    "## Theorem 2.2 Sampling Variances of the OLS Estimators"
   ]
  },
  {
   "cell_type": "markdown",
   "metadata": {},
   "source": [
    "\\begin{equation*}\n",
    "Var(\\hat{\\beta}_1)=\\frac{\\delta^2}{\\sum_{i=1}^n \\left(x_i-\\bar{x} \\right)^2} =\\frac{\\delta^2}{SST_x} \\\\\n",
    "Var(\\hat{\\beta}_0)=\\frac{\\delta^2n^{-1}\\sum_{i=1}^nX_i^2}{\\sum_{i=1}^n \\left(x_i-\\bar{x} \\right)^2} \\\\\n",
    "\\end{equation*}"
   ]
  },
  {
   "cell_type": "markdown",
   "metadata": {},
   "source": [
    "## Theorem 2.3 Unbiased Estimation of $\\delta^2$"
   ]
  },
  {
   "cell_type": "markdown",
   "metadata": {},
   "source": [
    "\\begin{equation*}\n",
    "E\\left(\\hat{\\delta}^2\\right)=\\delta^2 \\\\\n",
    "\\end{equation*}"
   ]
  },
  {
   "cell_type": "markdown",
   "metadata": {},
   "source": [
    "An unbiased estimator of $\\delta^2$ is given by"
   ]
  },
  {
   "cell_type": "markdown",
   "metadata": {},
   "source": [
    "\\begin{equation*}\n",
    "\\hat\\delta^2=\\frac{1}{n-2}\\sum_{i=1}^n\\hat u_i^2\n",
    "\\end{equation*}"
   ]
  },
  {
   "cell_type": "code",
   "execution_count": 33,
   "metadata": {},
   "outputs": [
    {
     "data": {
      "text/plain": [
       "[('Jarque-Bera', 807.843301330239),\n",
       " ('Chi^2 two-tail prob.', 3.7936389434141452e-176),\n",
       " ('Skew', 1.8606787960151654),\n",
       " ('Kurtosis', 7.797006157504788)]"
      ]
     },
     "execution_count": 33,
     "metadata": {},
     "output_type": "execute_result"
    }
   ],
   "source": [
    "# Normality of the residuals\n",
    "# Jarque-Bera test:\n",
    "name = ['Jarque-Bera', 'Chi^2 two-tail prob.', 'Skew', 'Kurtosis']\n",
    "test = sms.jarque_bera(model.resid)\n",
    "lzip(name, test)"
   ]
  },
  {
   "cell_type": "code",
   "execution_count": 20,
   "metadata": {},
   "outputs": [
    {
     "data": {
      "text/plain": [
       "[('Chi^2', 212.55444495696761),\n",
       " ('Two-tail probability', 6.9885765335337843e-47)]"
      ]
     },
     "execution_count": 20,
     "metadata": {},
     "output_type": "execute_result"
    }
   ],
   "source": [
    "# Omni test:\n",
    "name = ['Chi^2', 'Two-tail probability']\n",
    "test = sms.omni_normtest(model.resid)\n",
    "lzip(name, test)"
   ]
  },
  {
   "cell_type": "code",
   "execution_count": 21,
   "metadata": {},
   "outputs": [
    {
     "data": {
      "text/plain": [
       "array([[-0.01933372,  0.01424431],\n",
       "       [-0.01257424,  0.00618265],\n",
       "       [-0.02032582,  0.01497525],\n",
       "       [ 0.06106159, -0.05516005],\n",
       "       [-0.00155785,  0.00076598]])"
      ]
     },
     "execution_count": 21,
     "metadata": {},
     "output_type": "execute_result"
    }
   ],
   "source": [
    "# Influence tests\n",
    "# Once created, an object of class OLSInfluence holds attributes and \n",
    "# methods that allow users to assess the influence of each observation. \n",
    "# For example, we can compute and extract the first few rows of \n",
    "# DFbetas by:\n",
    "\n",
    "from statsmodels.stats.outliers_influence import OLSInfluence\n",
    "test_class = OLSInfluence(model)\n",
    "test_class.dfbetas[:5,:]"
   ]
  },
  {
   "cell_type": "code",
   "execution_count": 22,
   "metadata": {},
   "outputs": [
    {
     "data": {
      "image/png": "[encoded data removed]",
      "text/plain": [
       "<matplotlib.figure.Figure at 0x191d08f5278>"
      ]
     },
     "metadata": {
      "needs_background": "light"
     },
     "output_type": "display_data"
    }
   ],
   "source": [
    "from statsmodels.graphics.regressionplots import plot_leverage_resid2\n",
    "fig, ax = plt.subplots(figsize=(8,6))\n",
    "fig = plot_leverage_resid2(model, ax = ax)"
   ]
  },
  {
   "cell_type": "code",
   "execution_count": 23,
   "metadata": {},
   "outputs": [
    {
     "data": {
      "text/plain": [
       "60.161207366303749"
      ]
     },
     "execution_count": 23,
     "metadata": {},
     "output_type": "execute_result"
    }
   ],
   "source": [
    "# Multicollinearity\n",
    "# Condition number:\n",
    "\n",
    "np.linalg.cond(model.model.exog)"
   ]
  },
  {
   "cell_type": "markdown",
   "metadata": {},
   "source": [
    "# Chapter 3 Multiple Regression Analysis"
   ]
  },
  {
   "cell_type": "markdown",
   "metadata": {},
   "source": [
    "Under the CLM assumptions MLR.1 through MLR.6, conditional on the sample values of the independent variables,"
   ]
  },
  {
   "cell_type": "markdown",
   "metadata": {},
   "source": [
    "\\begin{equation*}\n",
    "\\hat\\beta_j \\~ Normal[\\beta_j,Var(\\hat\\beta_j)],\\\\\n",
    "\\end{equation*}"
   ]
  },
  {
   "cell_type": "markdown",
   "metadata": {},
   "source": [
    "where $Var(\\hat\\beta_j)=\\frac{\\sigma^2}{SST_j(1-R_j^2)}$ . Therefore,"
   ]
  },
  {
   "cell_type": "markdown",
   "metadata": {},
   "source": [
    "\\begin{equation*}\n",
    "\\frac{\\hat\\beta_j - \\beta_j}{sd(\\hat\\beta_j)}\\~Normal(0,1)\n",
    "\\end{equation*}"
   ]
  },
  {
   "cell_type": "markdown",
   "metadata": {},
   "source": [
    "But we don't have $sd(\\hat\\beta_j)$ therefore the standardization is done using the estimated standard deviation(=standard error) $se(\\hat\\beta_j)$, therefore Under the CLM assumptions MLR.1 through MLR.6,"
   ]
  },
  {
   "cell_type": "markdown",
   "metadata": {},
   "source": [
    "\\begin{equation*}\n",
    "\\frac{\\hat\\beta_j - \\beta_j}{se(\\hat\\beta_j)}\\~t_{n-k-1}\n",
    "\\end{equation*}"
   ]
  },
  {
   "cell_type": "markdown",
   "metadata": {},
   "source": [
    "df is degrees of freedom, n is sample size, k is number of variables"
   ]
  },
  {
   "cell_type": "markdown",
   "metadata": {},
   "source": [
    "Test $H_0:\\beta_j=0$ against $H_0:\\beta_j>0$"
   ]
  },
  {
   "cell_type": "markdown",
   "metadata": {},
   "source": [
    "\\begin{equation*}\n",
    "\\hat{\\ln(wage)} = \\underset{(0.104)}{2.284}+\\underset{(0.007)}{0.092educ}+\\underset{(0.0017)}{0.0041exper}+\\underset{(0.003)}{0.0022tenure}\\\\\n",
    "n=526, R^2=0.316\n",
    "\\end{equation*}"
   ]
  },
  {
   "cell_type": "markdown",
   "metadata": {},
   "source": [
    "t-statistic: $t_{exper}=\\frac{0.0041}{0.0017}\\approx2.41$  \n",
    "degrees of freedom: $df=n-k-1=526-3-1=522$  \n",
    "critical value: $c_{0.05}=1.645$  \n",
    "$t_{exper}>c_{0.05}$"
   ]
  },
  {
   "cell_type": "markdown",
   "metadata": {},
   "source": [
    "Test $H_0:\\beta_j=0$ against $H_0:\\beta_j<0$"
   ]
  },
  {
   "cell_type": "markdown",
   "metadata": {},
   "source": [
    "Test whether smaller school size leads to better student performance."
   ]
  },
  {
   "cell_type": "markdown",
   "metadata": {},
   "source": [
    "\\begin{equation*}\n",
    "\\hat{math10} = \\underset{(6.113)}{2.274}+\\underset{(0.00010)}{0.00046totcomp}+\\underset{(0.040)}{0.048staff}+\\underset{(0.00022)}{0.00020enroll}\\\\\n",
    "n=408, R^2=0.0541\n",
    "\\end{equation*}"
   ]
  },
  {
   "cell_type": "markdown",
   "metadata": {},
   "source": [
    "t-statistic: $t_{enroll}=\\frac{-0.00020}{0.00022}\\approx-0:91$\n",
    "degrees of freedom: $df=n-k-1=408-3-1=404$  \n",
    "critical value: $c_{0.05}=-1.65$  \n",
    "$t_{enroll}>c_{0.05}$"
   ]
  },
  {
   "cell_type": "markdown",
   "metadata": {},
   "source": [
    "Test $H_0:\\beta_j=0$ against $H_0:\\beta_j\\neq0$"
   ]
  },
  {
   "cell_type": "markdown",
   "metadata": {},
   "source": [
    "Note: for $\\alpha=\\%5$ we should use $t_{\\frac{\\alpha}{2},df}$"
   ]
  },
  {
   "cell_type": "markdown",
   "metadata": {},
   "source": [
    "Test $H_0:\\beta_j=-1$ against $H_1:\\beta_j\\neq-1$"
   ]
  },
  {
   "cell_type": "markdown",
   "metadata": {},
   "source": [
    "\\begin{equation*}\n",
    "t =\\frac{\\hat\\beta_j - \\beta_j}{se(\\hat\\beta_j)}=\\frac{\\hat\\beta_j - (-1)}{se(\\hat\\beta_j)}\\\n",
    "\\end{equation*}"
   ]
  },
  {
   "cell_type": "markdown",
   "metadata": {},
   "source": [
    "We reject $H_0$ if $|t|>c$, where c is a two-tailed critical value. If $H_0$ is rejected, we say that $\\hat\\beta_j$ is statistically different from negative one at the appropriate significance level."
   ]
  },
  {
   "cell_type": "markdown",
   "metadata": {},
   "source": [
    "Confidence intervals (also called interval estimates) provide a range of likely values for the population parameter, not \"just\" a point estimate."
   ]
  },
  {
   "cell_type": "markdown",
   "metadata": {},
   "source": [
    "At 0:95%: confidence level:  \n",
    "lower bound of the CI: $\\hat\\beta_j-c_{0.05}*se(\\hat\\beta_j)$      \n",
    "upper bound of the CI: $\\hat\\beta_j+c_{0.05}*se(\\hat\\beta_j)$  "
   ]
  },
  {
   "cell_type": "markdown",
   "metadata": {},
   "source": [
    "\\begin{equation*}\n",
    "\\hat{\\ln(rd)} = \\underset{(0.47)}{-4.38}+\\underset{(0.060)}{1.048\\ln(sales)}+\\underset{(0.0128)}{0.0217profmargin}\\\\\n",
    "n=32, R^2=0.918\n",
    "\\end{equation*}"
   ]
  },
  {
   "cell_type": "markdown",
   "metadata": {},
   "source": [
    "$1.048\\pm2.045\\times0.060 = (0.961, 1.21)$ The effect of sales on R&D is relatively precisely estimated as the interval is narrow.  \n",
    "$0.0217\\pm2.045\\times0.0218 = (-0.0045, 0.0479)$ The effect of the profit margin is imprecisely estimated as the interval is very wide. It is not even statistically significant because zero lies in the interval."
   ]
  },
  {
   "cell_type": "markdown",
   "metadata": {},
   "source": [
    "Test $H_0:\\beta_1=\\beta_2$ against $H_1:\\beta_1<\\beta_2$"
   ]
  },
  {
   "cell_type": "markdown",
   "metadata": {},
   "source": [
    "Test $H_0:\\beta_1-\\beta_2=0$ against $H_1:\\beta_1-\\beta_2<0$"
   ]
  },
  {
   "cell_type": "markdown",
   "metadata": {},
   "source": [
    "Solution: Define $\\theta=\\beta_1-\\beta_2$ and test $H_0:\\theta_1=0$ against $H_1:\\theta_1<0$ Then"
   ]
  },
  {
   "cell_type": "markdown",
   "metadata": {},
   "source": [
    "\\begin{equation*}\n",
    "\\hat{\\ln(wage)} = \\beta_0+\\beta_1jc+\\beta_2univ+\\beta_3exper\\\\\n",
    "\\hat{\\ln(wage)} = \\beta_0+(\\theta_1+\\beta_2)jc+\\beta_2univ+\\beta_3exper\\\\\n",
    "\\hat{\\ln(wage)} = \\beta_0+\\theta_1jc+\\beta_2(jc+univ)+\\beta_3exper\\\\\n",
    "\\end{equation*}"
   ]
  },
  {
   "cell_type": "markdown",
   "metadata": {},
   "source": [
    "Result:"
   ]
  },
  {
   "cell_type": "markdown",
   "metadata": {},
   "source": [
    "\\begin{equation*}\n",
    "\\hat{\\ln(wage)} = \\underset{(0.21)}{1.472}+\\underset{(0.0069)}{0.0102jc}+\\underset{(0.0023)}{0.0769(jc+univ)}+\\underset{(0.0002)}{0.0049exper}\\\\\n",
    "n=6763, R^2=0.222\n",
    "\\end{equation*}"
   ]
  },
  {
   "cell_type": "markdown",
   "metadata": {},
   "source": [
    "t-statistic: $t_{jc}=\\frac{-0.0102}{0.0069}\\approx-1.48$\n",
    "degrees of freedom: $df=n-k-1=6763-3-1=6759$  \n",
    "critical value: $c_{0.026}=-1.96$  \n",
    "p-value: $p-value = P(t-ratio<-1.48) = 2\\times0.035=0.070$  \n",
    "Confidence Interval: $-0.0102\\pm1.96\\times0.0069=(-0.0237,0.0003)$  \n",
    "$H_0$ is rejected at 10% level but not at 5% level."
   ]
  },
  {
   "cell_type": "markdown",
   "metadata": {},
   "source": [
    "Test $H_0:\\beta_3=0, \\beta_4=0, \\beta_5=0$ against $H_1:H_0$ is not true"
   ]
  },
  {
   "cell_type": "markdown",
   "metadata": {},
   "source": [
    "Estimation of the unrestricted model **(ur)**:"
   ]
  },
  {
   "cell_type": "markdown",
   "metadata": {},
   "source": [
    "\\begin{equation*}\n",
    "\\hat{\\ln(salary)} = \\underset{(0.29)}{11.19}+\\underset{(0.0121)}{0.689years}+\\underset{(0.0026)}{0.126gamesyr)}+\\\\\n",
    "\\underset{(0.00110)}{0.00098bavg}+\\underset{(0.0161)}{0.0144hrunsyr}+\\underset{(0.0072)}{0.0108rbisyr}\\\\\n",
    "n=353,SSR = 183.186, R^2=0.6275\n",
    "\\end{equation*}"
   ]
  },
  {
   "cell_type": "markdown",
   "metadata": {},
   "source": [
    "Note, none of the performance variables is individually statistically significant"
   ]
  },
  {
   "cell_type": "markdown",
   "metadata": {},
   "source": [
    "Estimation of the restricted model **(r)**:"
   ]
  },
  {
   "cell_type": "markdown",
   "metadata": {},
   "source": [
    "\\begin{equation*}\n",
    "\\hat{\\ln(salary)} = \\underset{(0.11)}{11.12}+\\underset{(0.0125)}{0.713years}+\\underset{(0.0013)}{0.0202gamesyr}+\\\\\n",
    "n=353,SSR = 198.311, R^2=0.5971\n",
    "\\end{equation*}"
   ]
  },
  {
   "cell_type": "markdown",
   "metadata": {},
   "source": [
    "\\begin{equation*}\n",
    "F=\\frac{(SSR_r-SSR_{ur})/q}{(SSR_{ur}/(n-k-1)}\\~F_{q,n-k-1}\n",
    "\\end{equation*}"
   ]
  },
  {
   "cell_type": "markdown",
   "metadata": {},
   "source": [
    "q: Numerator degrees of freedom $(df_r - df_{ur} )$ = number of restrictions. (the number of variables droped in r model)"
   ]
  },
  {
   "cell_type": "markdown",
   "metadata": {},
   "source": [
    "n - k - 1: Denominator degrees of freedom."
   ]
  },
  {
   "cell_type": "markdown",
   "metadata": {},
   "source": [
    "The relative increase of the sum of squared residuals when going from H1 to H0\n",
    "follows a F-distribution (if H0 is correct)"
   ]
  },
  {
   "cell_type": "markdown",
   "metadata": {},
   "source": [
    "\\begin{equation*}\n",
    "F=\\frac{(SSR_r-SSR_{ur})/q}{(SSR_{ur}/(n-k-1)}=\\frac{(198.311-183.186)/3}{183.186/(353-5-1)}\\\\\n",
    "F\\~F_{3,347}\\Rightarrow c_{0.01}=3.78\\\\\n",
    "P(F > 9.55) = 0.000\n",
    "\\end{equation*}"
   ]
  },
  {
   "cell_type": "markdown",
   "metadata": {},
   "source": [
    "The null hypothesis is overwhelmingly rejected (even at very small significance\n",
    "levels)."
   ]
  },
  {
   "cell_type": "markdown",
   "metadata": {},
   "source": [
    "The three variables are jointly signi\f",
    "cant, they were not signi\f",
    "cant when tested individually, the likely reason is multicollinearity between them."
   ]
  },
  {
   "cell_type": "markdown",
   "metadata": {},
   "source": [
    "Test of overall significance: all exlanatory variables are not useful in explaining the dependent variable"
   ]
  },
  {
   "cell_type": "markdown",
   "metadata": {},
   "source": [
    "\\begin{equation*}\n",
    "F=\\frac{(SSR_r-SSR_{ur})/q}{(SSR_{ur}/(n-k-1)}=\\frac{R^2/k}{(1-R^2)/(n-k-1)}\\~F_{q,n-k-1}\\\\\n",
    "\\end{equation*}"
   ]
  },
  {
   "cell_type": "markdown",
   "metadata": {},
   "source": [
    "Testing Other Hypotheses about $\\beta_j$\n",
    "We reject $H_0$ if |t| > c, where c is a two-tailed critical value. If $H_0$ is rejected, we\n",
    "say that $\\beta_j$ is statistically different from negative one at the appropriate signi\f",
    "cance\n",
    "level."
   ]
  },
  {
   "cell_type": "markdown",
   "metadata": {},
   "source": []
  },
  {
   "cell_type": "markdown",
   "metadata": {},
   "source": []
  },
  {
   "cell_type": "markdown",
   "metadata": {},
   "source": []
  },
  {
   "cell_type": "code",
   "execution_count": null,
   "metadata": {},
   "outputs": [],
   "source": []
  },
  {
   "cell_type": "code",
   "execution_count": null,
   "metadata": {},
   "outputs": [],
   "source": []
  },
  {
   "cell_type": "code",
   "execution_count": null,
   "metadata": {},
   "outputs": [],
   "source": []
  },
  {
   "cell_type": "code",
   "execution_count": null,
   "metadata": {},
   "outputs": [],
   "source": [
    "#Other Model attributes\n",
    "\"\"\"\n",
    "aic – Akaike’s information criteria. For a model with a constant −2llf+2(df_model+1). For a model without a constant −2llf+2(df_model).\n",
    "bic – Bayes’ information criteria. For a model with a constant −2llf+log(n)(df_model+1). For a model without a constant −2llf+log(n)(df_model)\n",
    "bse – The standard errors of the parameter estimates.\n",
    "pinv_wexog – See specific model class docstring\n",
    "centered_tss – The total (weighted) sum of squares centered about the mean.\n",
    "cov_HC0 – Heteroscedasticity robust covariance matrix. See HC0_se below.\n",
    "cov_HC1 – Heteroscedasticity robust covariance matrix. See HC1_se below.\n",
    "cov_HC2 – Heteroscedasticity robust covariance matrix. See HC2_se below.\n",
    "cov_HC3 – Heteroscedasticity robust covariance matrix. See HC3_se below.\n",
    "cov_type – Parameter covariance estimator used for standard errors and t-stats\n",
    "df_model – Model degrees of freedom. The number of regressors p. Does not include the constant if one is present\n",
    "df_resid – Residual degrees of freedom. n - p - 1, if a constant is present. n - p if a constant is not included.\n",
    "ess – Explained sum of squares. If a constant is present, the centered total sum of squares minus the sum of squared residuals. If there is no constant, the uncentered total sum of squares is used.\n",
    "fvalue – F-statistic of the fully specified model. Calculated as the mean squared error of the model divided by the mean squared error of the residuals.\n",
    "f_pvalue – p-value of the F-statistic\n",
    "fittedvalues – The predicted values for the original (unwhitened) design.\n",
    "het_scale – adjusted squared residuals for heteroscedasticity robust standard errors. Is only available after HC#_se or cov_HC# is called. See HC#_se for more information.\n",
    "history – Estimation history for iterative estimators\n",
    "HC0_se – White’s (1980) heteroskedasticity robust standard errors. Defined as sqrt(diag(X.T X)^(-1)X.T diag(e_i^(2)) X(X.T X)^(-1) where e_i = resid[i] HC0_se is a cached property. When HC0_se or cov_HC0 is called the RegressionResults instance will then have another attribute het_scale, which is in this case is just resid**2.\n",
    "HC1_se – MacKinnon and White’s (1985) alternative heteroskedasticity robust standard errors. Defined as sqrt(diag(n/(n-p)*HC_0) HC1_see is a cached property. When HC1_se or cov_HC1 is called the RegressionResults instance will then have another attribute het_scale, which is in this case is n/(n-p)*resid**2.\n",
    "HC2_se – MacKinnon and White’s (1985) alternative heteroskedasticity robust standard errors. Defined as (X.T X)^(-1)X.T diag(e_i^(2)/(1-h_ii)) X(X.T X)^(-1) where h_ii = x_i(X.T X)^(-1)x_i.T HC2_see is a cached property. When HC2_se or cov_HC2 is called the RegressionResults instance will then have another attribute het_scale, which is in this case is resid^(2)/(1-h_ii).\n",
    "HC3_se – MacKinnon and White’s (1985) alternative heteroskedasticity robust standard errors. Defined as (X.T X)^(-1)X.T diag(e_i^(2)/(1-h_ii)^(2)) X(X.T X)^(-1) where h_ii = x_i(X.T X)^(-1)x_i.T HC3_see is a cached property. When HC3_se or cov_HC3 is called the RegressionResults instance will then have another attribute het_scale, which is in this case is resid^(2)/(1-h_ii)^(2).\n",
    "model – A pointer to the model instance that called fit() or results.\n",
    "mse_model – Mean squared error the model. This is the explained sum of squares divided by the model degrees of freedom.\n",
    "mse_resid – Mean squared error of the residuals. The sum of squared residuals divided by the residual degrees of freedom.\n",
    "mse_total – Total mean squared error. Defined as the uncentered total sum of squares divided by n the number of observations.\n",
    "nobs – Number of observations n.\n",
    "normalized_cov_params – See specific model class docstring\n",
    "params – The linear coefficients that minimize the least squares criterion. This is usually called Beta for the classical linear model.\n",
    "pvalues – The two-tailed p values for the t-stats of the params.\n",
    "resid – The residuals of the model.\n",
    "resid_pearson – wresid normalized to have unit variance.\n",
    "rsquared – R-squared of a model with an intercept. This is defined here as 1 - ssr/centered_tss if the constant is included in the model and 1 - ssr/uncentered_tss if the constant is omitted.\n",
    "rsquared_adj – Adjusted R-squared. This is defined here as 1 - (nobs-1)/df_resid * (1-rsquared) if a constant is included and 1 - nobs/df_resid * (1-rsquared) if no constant is included.\n",
    "scale – A scale factor for the covariance matrix. Default value is ssr/(n-p). Note that the square root of scale is often called the standard error of the regression.\n",
    "ssr – Sum of squared (whitened) residuals.\n",
    "uncentered_tss – Uncentered sum of squares. Sum of the squared values of the (whitened) endogenous response variable.\n",
    "wresid – The residuals of the transformed/whitened regressand and regressor(s)\n",
    "\"\"\""
   ]
  },
  {
   "cell_type": "code",
   "execution_count": null,
   "metadata": {},
   "outputs": [],
   "source": [
    "model.resid"
   ]
  },
  {
   "cell_type": "code",
   "execution_count": null,
   "metadata": {},
   "outputs": [],
   "source": []
  }
 ],
 "metadata": {
  "kernelspec": {
   "display_name": "Python 3",
   "language": "python",
   "name": "python3"
  },
  "language_info": {
   "codemirror_mode": {
    "name": "ipython",
    "version": 3
   },
   "file_extension": ".py",
   "mimetype": "text/x-python",
   "name": "python",
   "nbconvert_exporter": "python",
   "pygments_lexer": "ipython3",
   "version": "3.7.6"
  }
 },
 "nbformat": 4,
 "nbformat_minor": 2
}
